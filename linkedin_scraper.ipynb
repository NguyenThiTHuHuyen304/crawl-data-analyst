{
 "cells": [
  {
   "cell_type": "code",
   "execution_count": 1,
   "metadata": {
    "vscode": {
     "languageId": "powershell"
    }
   },
   "outputs": [],
   "source": [
    "from selenium import webdriver\n",
    "from selenium.webdriver.common.keys import Keys\n",
    "from webdriver_manager.chrome import ChromeDriverManager\n",
    "from time import sleep\n",
    "from bs4 import BeautifulSoup\n",
    "import csv"
   ]
  },
  {
   "cell_type": "code",
   "execution_count": 2,
   "metadata": {
    "vscode": {
     "languageId": "powershell"
    }
   },
   "outputs": [
    {
     "name": "stderr",
     "output_type": "stream",
     "text": [
      "[WDM] - Downloading: 100%|██████████| 6.80M/6.80M [01:27<00:00, 81.5kB/s]\n"
     ]
    },
    {
     "name": "stdout",
     "output_type": "stream",
     "text": [
      "['https://www.linkedin.com/in/ni-ho-thi-mi-51b0b7267?miniProfileUrn=urn%3Ali%3Afs_miniProfile%3AACoAAEFVHScB0GF2Dz3nRAOEW06sKF-pHwJ2pvw', 'https://www.linkedin.com/in/phuongnd1306?miniProfileUrn=urn%3Ali%3Afs_miniProfile%3AACoAADUbstsB_ijKytRhj7oFTm0oqxoIyl6WnV4', 'https://www.linkedin.com/in/hoa-nguyen-01121516b?miniProfileUrn=urn%3Ali%3Afs_miniProfile%3AACoAAChuus0BJ0dScF3Pq7wMIuv-XYEZwHILcAQ', 'https://www.linkedin.com/in/pham-thi-be-hien?miniProfileUrn=urn%3Ali%3Afs_miniProfile%3AACoAADEq110BFvSJVi65HsXgNKjctlmHWZYGF_s', 'https://www.linkedin.com/in/tuananhle-927829237?miniProfileUrn=urn%3Ali%3Afs_miniProfile%3AACoAADsIc-8Bl5TomOojkIZPoePgLPhI7EmCtKg', 'https://www.linkedin.com/in/phuc-dinh-027341212?miniProfileUrn=urn%3Ali%3Afs_miniProfile%3AACoAADXMjt8BtLtQcs5vdCbMc9J8rHdrLXUo9fs', 'https://www.linkedin.com/in/quyenanhtp1609?miniProfileUrn=urn%3Ali%3Afs_miniProfile%3AACoAADQCxWgB_JojsZKR_wRAyNrwyu5nTEQF5CI', 'https://www.linkedin.com/in/thanh-phan-19843239?miniProfileUrn=urn%3Ali%3Afs_miniProfile%3AACoAAAgSgYQB5QL0umk67dMaHXuaMzq-hIS_O_Q', 'https://www.linkedin.com/in/trung-ngo-viet-35a2a0234?miniProfileUrn=urn%3Ali%3Afs_miniProfile%3AACoAADprQ_YBVwwWpV7zrCoK016gz056kcJ87zk', 'https://www.linkedin.com/in/tanh-tran-326b83209?miniProfileUrn=urn%3Ali%3Afs_miniProfile%3AACoAADUIcg4BW9ctisWhe91wRpHr4zYjIPVDghY', 'https://www.linkedin.com/in/hoang-tam-anh?miniProfileUrn=urn%3Ali%3Afs_miniProfile%3AACoAADD6mXIBtzCZbzFkCXgqvgyG3Ppcdi8fVTo', 'https://www.linkedin.com/in/th%C3%B9y-dung-tr%E1%BA%A7n-127962242?miniProfileUrn=urn%3Ali%3Afs_miniProfile%3AACoAADxMQC8BlDyfpFcNCnnD6J3rDYFfll6crtw', 'https://www.linkedin.com/in/%F0%9F%87%BB%F0%9F%87%B3-hiep-do-165613115?miniProfileUrn=urn%3Ali%3Afs_miniProfile%3AACoAABy-vh0Bp5To_Nd7fUB9ayA7VP7VXJzZBqA', 'https://www.linkedin.com/in/hi%E1%BA%BFu-d%C6%B0%C6%A1ng-7b5756216?miniProfileUrn=urn%3Ali%3Afs_miniProfile%3AACoAADaSdfkBOlAlE2ZUonBBEf0xzkwYn0up7M4', 'https://www.linkedin.com/in/cam-nguyen-manh1411?miniProfileUrn=urn%3Ali%3Afs_miniProfile%3AACoAADPf81gBIr2mEYxnPAa-JXGHSsPmZ7Y160s', 'https://www.linkedin.com/in/l%C6%B0%C6%A1ng-qu%E1%BB%B3nh-6563411aa?miniProfileUrn=urn%3Ali%3Afs_miniProfile%3AACoAADDQ0mIBGm8Kt9mw_klW3-F4rafYxQEg5YA', 'https://www.linkedin.com/in/dung-nguy%E1%BB%85n-5990591a7?miniProfileUrn=urn%3Ali%3Afs_miniProfile%3AACoAADA9RQUB2__Dobbeq8FDy1CoAkuc3ieOSo0', 'https://www.linkedin.com/in/phan-chinh-28785520b?miniProfileUrn=urn%3Ali%3Afs_miniProfile%3AACoAADVXSEcBTK4kvWB7LNvs_yCl7Q3J7OHWR5g', 'https://www.linkedin.com/in/khanh-pham-30599b14a?miniProfileUrn=urn%3Ali%3Afs_miniProfile%3AACoAACQY8PUBEHnQ5LdNxPNcvPnS6OZXt0Agcwc', 'https://www.linkedin.com/in/hoi-le-hong-8b41b120b?miniProfileUrn=urn%3Ali%3Afs_miniProfile%3AACoAADU-gsgB1nIIT4RkVTbRX5mCTTnKUU3rkGw']\n"
     ]
    }
   ],
   "source": [
    "##Step 1: Login to Linkedin \n",
    "# Open Chrome and login linkedin login site\n",
    "driver = webdriver.Chrome(ChromeDriverManager().install())\n",
    "driver.maximize_window()\n",
    "url = \"https://www.linkedin.com/login\"\n",
    "driver.get(url)\n",
    "sleep(2)\n",
    "\n",
    "# Import username and password\n",
    "credential = open('login_credential.txt')\n",
    "line = credential.readlines()\n",
    "username = line[0]\n",
    "password = line[1]\n",
    "\n",
    "# key in username/password --> login\n",
    "driver.find_element_by_xpath(\"//input[@id = 'username']\").send_keys(username)\n",
    "sleep(2)\n",
    "driver.find_element_by_xpath(\"//input[@id = 'password' ]\").send_keys(password)\n",
    "sleep(2)\n",
    "driver.find_element_by_xpath(\"//button[@aria-label= 'Sign in' ]\").click()\n",
    "sleep(2)\n",
    "\n",
    "## Step 2: Search for the profile we want to crawl\n",
    "search_field =  driver.find_element_by_xpath(\"//input[@aria-label = 'Search']\")\n",
    "search_field.send_keys(\"Automation test\")\n",
    "search_field.send_keys(Keys.RETURN)\n",
    "sleep(10)\n",
    "driver.find_element_by_xpath(\"//nav[@aria-label = 'Search filters']//button[text()= 'People']\").click()\n",
    "sleep(5)\n",
    "\n",
    "## Step 3: Scrape the URLs of the profiles\n",
    "\n",
    "def  GetURL():\n",
    "    page_source = BeautifulSoup(driver.page_source)\n",
    "    profiles =  page_source.find_all('a', class_= 'app-aware-link scale-down')\n",
    "    all_profile_URL = []\n",
    "    for profile in profiles:\n",
    "        profile_ID = profile.get('href')\n",
    "        all_profile_URL.append(profile_ID)\n",
    "    return all_profile_URL\n",
    "\n",
    "\n",
    "input_page = int(input(\"How many pages you want to scrape: \"))\n",
    "URLs_all_page = []\n",
    "for page in range(input_page):\n",
    "    URLs_one_page = GetURL()\n",
    "    sleep(5)\n",
    "    driver.execute_script('window.scrollTo(0, document.body.scrollHeight);')\n",
    "    sleep(2)\n",
    "    next_button =  driver.find_element_by_xpath(\"//button[@aria-label = 'Next']\")\n",
    "    sleep(2)\n",
    "    driver.execute_script(\"arguments[0].click();\", next_button)\n",
    "    URLs_all_page = URLs_all_page + URLs_one_page\n",
    "    sleep(2)\n",
    "\n",
    "\n",
    "print(URLs_all_page)\n",
    "\n",
    "  "
   ]
  },
  {
   "cell_type": "code",
   "execution_count": 3,
   "metadata": {
    "vscode": {
     "languageId": "powershell"
    }
   },
   "outputs": [
    {
     "name": "stdout",
     "output_type": "stream",
     "text": [
      "Profile name is:  Ni Ho Thi Mi\n",
      "Profile title is:  Test Automation Engineer at NashTech\n",
      "Profile location is:  Ho Chi Minh City, Vietnam\n",
      "\n",
      "\n",
      "Profile name is:  Duc Phuong Nguyen\n",
      "Profile title is:  Automation Test Engineer\n",
      "Profile location is:  Hanoi, Hanoi, Vietnam\n",
      "\n",
      "\n",
      "Profile name is:  Hoa Nguyen\n",
      "Profile title is:  Automation Test Engineer\n",
      "Profile location is:  Hanoi, Hanoi, Vietnam\n",
      "\n",
      "\n",
      "Profile name is:  Hien Pham\n",
      "Profile title is:  Automation Test Engineer\n",
      "Profile location is:  Ho Chi Minh City, Vietnam\n",
      "\n",
      "\n",
      "Profile name is:  Tuan Anh Le\n",
      "Profile title is:  Automation Test Engineer | Quality Assurance Automation Engineer\n",
      "Profile location is:  Ba Đình District, Hanoi, Vietnam\n",
      "\n",
      "\n",
      "Profile name is:  Phuc Dinh\n",
      "Profile title is:  Automation Test Engineer at Hansen Technologies\n",
      "Profile location is:  Ho Chi Minh City, Vietnam\n",
      "\n",
      "\n",
      "Profile name is:  Anh Trần Phúc Quyền\n",
      "Profile title is:  Senior Automation Test Engineer & Automation Test Lead\n",
      "Profile location is:  Ho Chi Minh City, Vietnam\n",
      "\n",
      "\n",
      "Profile name is:  Thanh Phan\n",
      "Profile title is:  Experienced Automation Test | ISTQB certified\n",
      "Profile location is:  Ho Chi Minh City, Vietnam\n",
      "\n",
      "\n",
      "Profile name is:  Trung Ngo Viet\n",
      "Profile title is:  Automation Tester\n",
      "Profile location is:  Hanoi Capital Region\n",
      "\n",
      "\n",
      "Profile name is:  Tanh Tran\n",
      "Profile title is:  QA Automation Test Lead\n",
      "Profile location is:  Ho Chi Minh City, Vietnam\n",
      "\n",
      "\n",
      "Profile name is:  Hoang Tam Anh\n",
      "Profile title is:  Test Automation Engineer at NTT DATA VDS\n",
      "Profile location is:  Hanoi, Hanoi, Vietnam\n",
      "\n",
      "\n",
      "Profile name is:  Thùy Dung Trần\n",
      "Profile title is:  Test Automation Engineer at One Mount\n",
      "Profile location is:  Hanoi, Hanoi, Vietnam\n",
      "\n",
      "\n",
      "Profile name is:  🇻🇳 Hiep Do\n",
      "Profile title is:  Automation test engineer at NAB\n",
      "Profile location is:  Vietnam\n",
      "\n",
      "\n",
      "Profile name is:  Hiếu Dương\n",
      "Profile title is:  Automation Test Freelancer\n",
      "Profile location is:  Hanoi Capital Region\n",
      "\n",
      "\n",
      "Profile name is:  Cam Nguyen Manh\n",
      "Profile title is:  Automation Test Engineer\n",
      "Profile location is:  Hanoi Capital Region\n",
      "\n",
      "\n",
      "Profile name is:  Lương Quỳnh\n",
      "Profile title is:  Senior Automation Test\n",
      "Profile location is:  Hanoi, Hanoi, Vietnam\n",
      "\n",
      "\n",
      "Profile name is:  Dung Nguyễn\n",
      "Profile title is:  Test Automation Engineer\n",
      "Profile location is:  Hanoi, Hanoi, Vietnam\n",
      "\n",
      "\n",
      "Profile name is:  Phan Chinh\n",
      "Profile title is:  Middle Automation Tester\n",
      "Profile location is:  Hanoi Capital Region\n",
      "\n",
      "\n",
      "Profile name is:  Khanh Pham\n",
      "Profile title is:  Automation Test Lead - Test Manager\n",
      "Profile location is:  Gò Vấp, Ho Chi Minh City, Vietnam\n",
      "\n",
      "\n",
      "Profile name is:  Hoi Le Hong\n",
      "Profile title is:  Senior Test Automation Engineer at FPT Software\n",
      "Profile location is:  Hanoi, Hanoi, Vietnam\n",
      "\n",
      "\n"
     ]
    }
   ],
   "source": [
    "## Step 4: Scrape the data of 1 linkedin profile, and write the data to a .CSV file\n",
    "with open('output.csv', 'w', newline= '')as file_output: \n",
    "    headers = ['Name', 'Job Title', 'Location', 'URL']\n",
    "    writer = csv.DictWriter(file_output, delimiter = ',', lineterminator = '\\n', fieldnames = headers)\n",
    "    writer.writeheader() \n",
    "\n",
    "    for linkedin_URL in URLs_all_page:\n",
    "        driver.get(linkedin_URL)\n",
    "        sleep(5)\n",
    "        page_source = BeautifulSoup(driver.page_source, \"html.parser\")\n",
    "        infor_div = page_source.find('div', class_=\"mt2 relative\")\n",
    "        infor_loc = infor_div.find_all('div', class_ = 'pv-text-details__left-panel')\n",
    "        name = infor_loc[0].find('h1').get_text()\n",
    "        print('Profile name is: ',name)\n",
    "        title = infor_loc[0].find('div', class_ = 'text-body-medium break-words').get_text().strip()\n",
    "        print('Profile title is: ',title)\n",
    "        location = infor_loc[1].find('span').get_text().strip()     \n",
    "        print('Profile location is: ',location)\n",
    "        writer.writerow({headers[0]:name,headers[1]:title, headers[2]: location, headers[3]: linkedin_URL}) \n",
    "        print('\\n')\n",
    "\n",
    "    "
   ]
  },
  {
   "cell_type": "code",
   "execution_count": null,
   "metadata": {
    "vscode": {
     "languageId": "powershell"
    }
   },
   "outputs": [],
   "source": []
  },
  {
   "cell_type": "code",
   "execution_count": null,
   "metadata": {
    "vscode": {
     "languageId": "powershell"
    }
   },
   "outputs": [],
   "source": []
  }
 ],
 "metadata": {
  "kernelspec": {
   "display_name": "base",
   "language": "python",
   "name": "python3"
  },
  "language_info": {
   "codemirror_mode": {
    "name": "ipython",
    "version": 3
   },
   "file_extension": ".py",
   "mimetype": "text/x-python",
   "name": "python",
   "nbconvert_exporter": "python",
   "pygments_lexer": "ipython3",
   "version": "3.8.8"
  },
  "orig_nbformat": 4
 },
 "nbformat": 4,
 "nbformat_minor": 2
}
