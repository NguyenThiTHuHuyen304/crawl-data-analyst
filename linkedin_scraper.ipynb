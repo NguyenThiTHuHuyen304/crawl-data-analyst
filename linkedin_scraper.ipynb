{
 "cells": [
  {
   "cell_type": "code",
   "execution_count": 1,
   "metadata": {},
   "outputs": [],
   "source": [
    "from selenium import webdriver\n",
    "from selenium.webdriver.common.keys import Keys\n",
    "from webdriver_manager.chrome import ChromeDriverManager\n",
    "from time import sleep\n",
    "from bs4 import BeautifulSoup\n",
    "import csv"
   ]
  },
  {
   "cell_type": "code",
   "execution_count": 4,
   "metadata": {},
   "outputs": [
    {
     "name": "stderr",
     "output_type": "stream",
     "text": [
      "C:\\Users\\Admin\\AppData\\Local\\Temp\\ipykernel_7500\\3580544358.py:3: DeprecationWarning: executable_path has been deprecated, please pass in a Service object\n",
      "  driver = webdriver.Chrome(ChromeDriverManager().install())\n"
     ]
    },
    {
     "name": "stdout",
     "output_type": "stream",
     "text": [
      "['https://www.linkedin.com/in/lehuyhoanguon?miniProfileUrn=urn%3Ali%3Afs_miniProfile%3AACoAAC6WPsIBY923-AfwEFJWo2a3jDykGN4gROg', 'https://www.linkedin.com/in/hoangtong27?miniProfileUrn=urn%3Ali%3Afs_miniProfile%3AACoAADoeNqYBwIwIQWEldQtcmg8rhG97CKSAQH4', 'https://www.linkedin.com/in/hang-dao-2661b516a?miniProfileUrn=urn%3Ali%3Afs_miniProfile%3AACoAAChAii4Byz3ZeIVvBMu5eP54gO8yWdTo-ew', 'https://www.linkedin.com/in/hainguyen88?miniProfileUrn=urn%3Ali%3Afs_miniProfile%3AACoAABYB-gsB3lzs1hRbjmNhPEvm-C89brnG8qw', 'https://www.linkedin.com/in/trungbuiq?miniProfileUrn=urn%3Ali%3Afs_miniProfile%3AACoAAC70my8BV4J-aPz9RwZKBLy_UNk_ZEG4MOY', 'https://www.linkedin.com/in/l%C3%A2n-l%C3%AA-85381121b?miniProfileUrn=urn%3Ali%3Afs_miniProfile%3AACoAADd4rH8BtiD_-1z0JOZ_kTB-PKBrYtE0h14', 'https://www.linkedin.com/in/linh-nguyen-74217823a?miniProfileUrn=urn%3Ali%3Afs_miniProfile%3AACoAADt4HSIBb4g1EjEVWYV_Yvuye1bEsoW980s', 'https://www.linkedin.com/in/truongsonla?miniProfileUrn=urn%3Ali%3Afs_miniProfile%3AACoAADbBIxwB-c1b6-7MX5pY2HVgiobiF3C7RRU', 'https://www.linkedin.com/in/t%C3%B9ng-tr%E1%BA%A7n-249039199?miniProfileUrn=urn%3Ali%3Afs_miniProfile%3AACoAAC51ARkBLpDlhsQV5evvrI6_EZr0QQa362c', 'https://www.linkedin.com/in/buihuy2301?miniProfileUrn=urn%3Ali%3Afs_miniProfile%3AACoAACj4ogYBTC-SgWL4Q09tBlTtejETMNDLbIs', 'https://www.linkedin.com/in/ngoc-ha-pham-2811101b7?miniProfileUrn=urn%3Ali%3Afs_miniProfile%3AACoAADJiToEBoJDVQUyZIgnPCahjPcDo2CAwlow', 'https://www.linkedin.com/in/minhng23?miniProfileUrn=urn%3Ali%3Afs_miniProfile%3AACoAAB0NLr4Bcqlo6HUa4aV6OBPdk2qb8W2legc', 'https://www.linkedin.com/in/thuan-tran-thi?miniProfileUrn=urn%3Ali%3Afs_miniProfile%3AACoAAC-DgtcB_jnizkFy-ylQ6mczkETNUtjU5nY', 'https://www.linkedin.com/in/linh-thuy-phung?miniProfileUrn=urn%3Ali%3Afs_miniProfile%3AACoAADDQ5QMBA5_TYhoT6I7cLyXPueGotu9PYms', 'https://www.linkedin.com/in/duy-nguyen-duc-934bb5263?miniProfileUrn=urn%3Ali%3Afs_miniProfile%3AACoAAEDIlfgBwzc7STThRm-l2i-9pweZkOZxnLE', 'https://www.linkedin.com/in/hanhngandinh?miniProfileUrn=urn%3Ali%3Afs_miniProfile%3AACoAACCrZwsBd6Jfc7GPMqxlnSTqR3UPY9FAlO4', 'https://www.linkedin.com/in/ngoc-do-minh?miniProfileUrn=urn%3Ali%3Afs_miniProfile%3AACoAADg_80gBRbb0IA8qBuau_0qpnA-GPqn9c_Y', 'https://www.linkedin.com/in/trinhlam00?miniProfileUrn=urn%3Ali%3Afs_miniProfile%3AACoAADkS08gBbnluNsk9rlDOKaWP36JRXoeAFrk', 'https://www.linkedin.com/in/kieu-trinh-ha-172583156?miniProfileUrn=urn%3Ali%3Afs_miniProfile%3AACoAACV1uSYBoRph2fiCOhKJU0stT4_Q_m8t0cM', 'https://www.linkedin.com/in/thanhhl95?miniProfileUrn=urn%3Ali%3Afs_miniProfile%3AACoAABooxdgBjadoIbn1iFhykwPPu67m8xpXU7E']\n"
     ]
    }
   ],
   "source": [
    "##Step 1: Login to Linkedin \n",
    "# Open Chrome and login linkedin login site\n",
    "driver = webdriver.Chrome(ChromeDriverManager().install())\n",
    "driver.maximize_window()\n",
    "url = \"https://www.linkedin.com/login\"\n",
    "driver.get(url)\n",
    "sleep(2)\n",
    "\n",
    "# Import username and password\n",
    "credential = open('login_credential.txt')\n",
    "line = credential.readlines()\n",
    "username = line[0]\n",
    "password = line[1]\n",
    "\n",
    "# key in username/password --> login\n",
    "driver.find_element(\"xpath\",\"//input[@id = 'username']\").send_keys(username)\n",
    "sleep(2)\n",
    "driver.find_element(\"xpath\",\"//input[@id = 'password' ]\").send_keys(password)\n",
    "sleep(2)\n",
    "driver.find_element(\"xpath\",\"//button[@aria-label= 'Sign in' ]\").click()\n",
    "sleep(2)\n",
    "\n",
    "## Step 2: Search for the profile we want to crawl\n",
    "search_field =  driver.find_element(\"xpath\", \"//input[@aria-label = 'Search']\")\n",
    "search_field.send_keys(\"Data Analyst\")\n",
    "search_field.send_keys(Keys.RETURN)\n",
    "sleep(10)\n",
    "driver.find_element(\"xpath\",\"//nav[@aria-label = 'Search filters']//button[text()= 'People']\").click()\n",
    "sleep(5)\n",
    "\n",
    "## Step 3: Scrape the URLs of the profiles\n",
    "def  GetURL():\n",
    "    page_source = BeautifulSoup(driver.page_source)\n",
    "    profiles =  page_source.find_all('a', class_= 'app-aware-link scale-down')\n",
    "    all_profile_URL = []\n",
    "    for profile in profiles:\n",
    "        profile_ID = profile.get('href')\n",
    "        all_profile_URL.append(profile_ID)\n",
    "    return all_profile_URL\n",
    "\n",
    "\n",
    "input_page = int(input(\"How many pages you want to scrape: \"))\n",
    "URLs_all_page = []\n",
    "for page in range(input_page):\n",
    "    URLs_one_page = GetURL()\n",
    "    sleep(5)\n",
    "    driver.execute_script('window.scrollTo(0, document.body.scrollHeight);')\n",
    "    sleep(2)\n",
    "    next_button =  driver.find_element(\"xpath\", \"//button[@aria-label = 'Next']\")\n",
    "    sleep(2)\n",
    "    driver.execute_script(\"arguments[0].click();\", next_button)\n",
    "    URLs_all_page = URLs_all_page + URLs_one_page\n",
    "    sleep(2)\n",
    "\n",
    "\n",
    "print(URLs_all_page)\n",
    "  "
   ]
  },
  {
   "cell_type": "code",
   "execution_count": 5,
   "metadata": {
    "vscode": {
     "languageId": "powershell"
    }
   },
   "outputs": [
    {
     "name": "stdout",
     "output_type": "stream",
     "text": [
      "Profile name is:  Hoàng Lê\n",
      "Profile title is:  Data Analyst at Honda Vietnam Co., Ltd.\n",
      "Profile location is:  Hanoi, Hanoi, Vietnam\n",
      "\n",
      "\n",
      "Profile name is:  Hoang Tong\n",
      "Profile title is:  Data Analyst\n",
      "Profile location is:  Hanoi, Hanoi, Vietnam\n",
      "\n",
      "\n",
      "Profile name is:  Hang Dao\n",
      "Profile title is:  Data analyst\n",
      "Profile location is:  Hanoi Capital Region\n",
      "\n",
      "\n",
      "Profile name is:  Hai Nguyen\n",
      "Profile title is:  Data Analyst\n",
      "Profile location is:  Vietnam\n",
      "\n",
      "\n",
      "Profile name is:  Trung Bui\n",
      "Profile title is:  Data Analyst at Viettel Solutions Corporation\n",
      "Profile location is:  Hanoi, Hanoi, Vietnam\n",
      "\n",
      "\n",
      "Profile name is:  Lân Lê\n",
      "Profile title is:  Data Analyst at Viettel Digital\n",
      "Profile location is:  Hanoi, Hanoi, Vietnam\n",
      "\n",
      "\n",
      "Profile name is:  Linh Nguyen\n",
      "Profile title is:  Data Analyst\n",
      "Profile location is:  Hanoi Capital Region\n",
      "\n",
      "\n",
      "Profile name is:  Truong Son La\n",
      "Profile title is:  Data Analyst\n",
      "Profile location is:  Hanoi Capital Region\n",
      "\n",
      "\n",
      "Profile name is:  Tùng Trần\n",
      "Profile title is:  Associate Data Analyst\n",
      "Profile location is:  Hanoi, Hanoi, Vietnam\n",
      "\n",
      "\n",
      "Profile name is:  Bui Huy\n",
      "Profile title is:  Data Analyst\n",
      "Profile location is:  Hanoi Capital Region\n",
      "\n",
      "\n",
      "Profile name is:  Ngoc Ha Pham\n",
      "Profile title is:  Data Analyst\n",
      "Profile location is:  Vietnam\n",
      "\n",
      "\n",
      "Profile name is:  Minh NGUYEN\n",
      "Profile title is:  Data Analyst\n",
      "Profile location is:  Hanoi Capital Region\n",
      "\n",
      "\n",
      "Profile name is:  Thuan Tran\n",
      "Profile title is:  Data Analyst\n",
      "Profile location is:  Hanoi, Hanoi, Vietnam\n",
      "\n",
      "\n",
      "Profile name is:  Linh Phung\n",
      "Profile title is:  Data Analyst\n",
      "Profile location is:  Hanoi Capital Region\n",
      "\n",
      "\n",
      "Profile name is:  Duy Nguyen Duc\n",
      "Profile title is:  Data Analyst/Data Engineer\n",
      "Profile location is:  Hanoi Capital Region\n",
      "\n",
      "\n",
      "Profile name is:  Ngan Hanh Dinh\n",
      "Profile title is:  Data Analyst at Techcom Securities\n",
      "Profile location is:  Hanoi Capital Region\n",
      "\n",
      "\n",
      "Profile name is:  Ngoc Do\n",
      "Profile title is:  Data Analyst | Marathoner\n",
      "Profile location is:  Hanoi, Hanoi, Vietnam\n",
      "\n",
      "\n",
      "Profile name is:  Lam Trinh\n",
      "Profile title is:  Data Analyst at Giaohangtietkiem\n",
      "Profile location is:  Hanoi, Hanoi, Vietnam\n",
      "\n",
      "\n",
      "Profile name is:  Kieu Trinh Ha\n",
      "Profile title is:  Data Analyst at FPT Information System\n",
      "Profile location is:  Hanoi, Hanoi, Vietnam\n",
      "\n",
      "\n",
      "Profile name is:  Thanh Hoang\n",
      "Profile title is:  Data Analyst at Viettel Telecom\n",
      "Profile location is:  Hanoi, Hanoi, Vietnam\n",
      "\n",
      "\n"
     ]
    }
   ],
   "source": [
    "## Step 4: Scrape the data of 1 linkedin profile, and write the data to a .CSV file\n",
    "with open('output.csv', 'w', newline= '')as file_output: \n",
    "    headers = ['Name', 'Job Title', 'Location', 'URL']\n",
    "    writer = csv.DictWriter(file_output, delimiter = ',', lineterminator = '\\n', fieldnames = headers)\n",
    "    writer.writeheader() \n",
    "\n",
    "    for linkedin_URL in URLs_all_page:\n",
    "        driver.get(linkedin_URL)\n",
    "        sleep(5)\n",
    "        page_source = BeautifulSoup(driver.page_source, \"html.parser\")\n",
    "        infor_div = page_source.find('div', class_=\"mt2 relative\")\n",
    "        infor_loc = infor_div.find_all('div', class_ = 'pv-text-details__left-panel')\n",
    "        name = infor_loc[0].find('h1').get_text()\n",
    "        print('Profile name is: ',name)\n",
    "        title = infor_loc[0].find('div', class_ = 'text-body-medium break-words').get_text().strip()\n",
    "        print('Profile title is: ',title)\n",
    "        location = infor_loc[1].find('span').get_text().strip()     \n",
    "        print('Profile location is: ',location)\n",
    "        writer.writerow({headers[0]:name,headers[1]:title, headers[2]: location, headers[3]: linkedin_URL}) \n",
    "        print('\\n')\n",
    "\n",
    "    "
   ]
  },
  {
   "cell_type": "code",
   "execution_count": null,
   "metadata": {
    "vscode": {
     "languageId": "powershell"
    }
   },
   "outputs": [],
   "source": []
  },
  {
   "cell_type": "code",
   "execution_count": null,
   "metadata": {
    "vscode": {
     "languageId": "powershell"
    }
   },
   "outputs": [],
   "source": []
  }
 ],
 "metadata": {
  "kernelspec": {
   "display_name": "Python 3",
   "language": "python",
   "name": "python3"
  },
  "language_info": {
   "codemirror_mode": {
    "name": "ipython",
    "version": 3
   },
   "file_extension": ".py",
   "mimetype": "text/x-python",
   "name": "python",
   "nbconvert_exporter": "python",
   "pygments_lexer": "ipython3",
   "version": "3.10.9"
  }
 },
 "nbformat": 4,
 "nbformat_minor": 2
}
